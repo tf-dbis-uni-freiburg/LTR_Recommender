{
 "cells": [
  {
   "cell_type": "code",
   "execution_count": 3,
   "metadata": {},
   "outputs": [],
   "source": [
    "def read_docs_topics_file(papers_file, delimiter=\" \"):\n",
    "    \"\"\"\n",
    "    Reads documents latent topics from the file\n",
    "    :param papers_file: file contains papers topics\n",
    "    :param delimiter: The separator used in the file\n",
    "    :return: ndarray (2d), one row for each paper, one column for each topic\n",
    "    \"\"\"\n",
    "    papers_list = []\n",
    "    with open(papers_file) as f:\n",
    "        for line in f:\n",
    "            paper_dis = [float(x) for x in line.replace(\"\\n\", \"\").split(delimiter) if x != \"\"]\n",
    "            papers_list.append(paper_dis)\n",
    "    # Check if all lines have the same length\n",
    "    if len(set([len(x) for x in papers_list])) > 1:\n",
    "        print(\"Error in papers file, papers have different number of features: {}\".format(papers_file))\n",
    "        raise ValueError(\"Error in papers file, papers have different number of features.\")\n",
    "    return np.array(papers_list)"
   ]
  },
  {
   "cell_type": "code",
   "execution_count": 5,
   "metadata": {},
   "outputs": [
    {
     "name": "stdout",
     "output_type": "stream",
     "text": [
      "Reading papers LDA topics file: /Volumes/Work/datasets/citeulike/citeulike_2004_2007/lda_sklearn/theta_150.dat\n",
      "papers LDA matrix dimensions: (210137, 150)\n"
     ]
    }
   ],
   "source": [
    "import numpy as np\n",
    "from scipy import sparse\n",
    "from sklearn.metrics.pairwise import cosine_similarity\n",
    "lda_file = '/Volumes/Work/datasets/citeulike/citeulike_2004_2007/lda_sklearn/theta_150.dat'\n",
    "print(\"Reading papers LDA topics file: {}\".format(lda_file))\n",
    "papers_lda_topics = read_docs_topics_file(lda_file)\n",
    "print(\"papers LDA matrix dimensions: {}\".format(papers_lda_topics.shape))"
   ]
  },
  {
   "cell_type": "code",
   "execution_count": null,
   "metadata": {},
   "outputs": [],
   "source": [
    "similarity_matrix = cosine_similarity(sparse.csr_matrix(papers_lda_topics), dense_output=False)\n",
    "\n",
    "print(\"Similarity matrix size: {} X {}, Nonzeros: {}, stored values: {}\".format(similarity_matrix.shape[0],\n",
    "                                                                                similarity_matrix.shape[1],\n",
    "                                                                                similarity_matrix.count_nonzero(),\n",
    "                                                                                similarity_matrix.nnz))\n",
    "print('Size of similarity matrix: {} Bytes'.format(sys.getsizeof(similarity_matrix.data.nbytes + similarity_matrix.indptr.nbytes + similarity_matrix.indices.nbytes)))\n"
   ]
  },
  {
   "cell_type": "code",
   "execution_count": null,
   "metadata": {},
   "outputs": [],
   "source": [
    "# using the spark mlpackage\n",
    "import pyspark.sql.functions as psf\n",
    "df = rdd.toDF([\"ID\", \"Office_Loc\"]).withColumn(\"Office_Loc\", psf.split(psf.regexp_replace(\"Office_Loc\", \" \", \"\"), ','))\n",
    "\n",
    "#Compute TF-IDF:\n",
    "from pyspark.ml.feature import HashingTF, IDF\n",
    "hashingTF = HashingTF(inputCol=\"Office_Loc\", outputCol=\"tf\")\n",
    "tf = hashingTF.transform(df)\n",
    "\n",
    "idf = IDF(inputCol=\"tf\", outputCol=\"feature\").fit(tf)\n",
    "tfidf = idf.transform(tf)\n",
    "\n",
    "#Compute L2 norm:\n",
    "from pyspark.ml.feature import Normalizer\n",
    "normalizer = Normalizer(inputCol=\"feature\", outputCol=\"norm\")\n",
    "data = normalizer.transform(tfidf)\n",
    "\n",
    "\n",
    "#Compute matrix product:\n",
    "from pyspark.mllib.linalg.distributed import IndexedRow, IndexedRowMatrix\n",
    "mat = IndexedRowMatrix(\n",
    "    data.select(\"ID\", \"norm\")\\\n",
    "        .rdd.map(lambda row: IndexedRow(row.ID, row.norm.toArray()))).toBlockMatrix()\n",
    "dot = mat.multiply(mat.transpose())\n",
    "dot.toLocalMatrix().toArray()"
   ]
  },
  {
   "cell_type": "code",
   "execution_count": null,
   "metadata": {},
   "outputs": [],
   "source": [
    "print(\"*** Broadcasting the similarity matrix ***\")\n",
    "#print(\"*** Parallelizing the similarity matrix ***\")\n",
    "#sc.parallelize(similarity_matrix)\n",
    "similarity_matrix_broadcasted = sc.broadcast(similarity_matrix)\n",
    "#similarity_matrix_broadcasted = similarity_matrix\n",
    "print(\"*** Broadcasting the similarity matrix  Done !***\")"
   ]
  }
 ],
 "metadata": {
  "kernelspec": {
   "display_name": "Python 3",
   "language": "python",
   "name": "python3"
  },
  "language_info": {
   "codemirror_mode": {
    "name": "ipython",
    "version": 3
   },
   "file_extension": ".py",
   "mimetype": "text/x-python",
   "name": "python",
   "nbconvert_exporter": "python",
   "pygments_lexer": "ipython3",
   "version": "3.5.3"
  }
 },
 "nbformat": 4,
 "nbformat_minor": 1
}
